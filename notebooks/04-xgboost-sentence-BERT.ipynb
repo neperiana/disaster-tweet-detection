{
 "cells": [
  {
   "cell_type": "markdown",
   "metadata": {},
   "source": [
    "# XGBoost Model using sentence-BERT"
   ]
  },
  {
   "cell_type": "code",
   "execution_count": 1,
   "metadata": {},
   "outputs": [],
   "source": [
    "%load_ext autoreload\n",
    "%autoreload 2"
   ]
  },
  {
   "cell_type": "code",
   "execution_count": 2,
   "metadata": {},
   "outputs": [
    {
     "name": "stderr",
     "output_type": "stream",
     "text": [
      "/home/neperiana/Documents/Projects/disaster_tweet_detection/.venv/lib/python3.10/site-packages/tqdm/auto.py:22: TqdmWarning: IProgress not found. Please update jupyter and ipywidgets. See https://ipywidgets.readthedocs.io/en/stable/user_install.html\n",
      "  from .autonotebook import tqdm as notebook_tqdm\n",
      "[nltk_data] Downloading package stopwords to\n",
      "[nltk_data]     /home/neperiana/nltk_data...\n",
      "[nltk_data]   Package stopwords is already up-to-date!\n",
      "[nltk_data] Downloading package omw-1.4 to\n",
      "[nltk_data]     /home/neperiana/nltk_data...\n",
      "[nltk_data]   Package omw-1.4 is already up-to-date!\n"
     ]
    }
   ],
   "source": [
    "import numpy as np\n",
    "import pandas as pd\n",
    "\n",
    "import matplotlib.pyplot as plt\n",
    "import matplotlib.colors as mcolors\n",
    "import matplotlib.patches as mpatches\n",
    "import matplotlib.ticker as mtick\n",
    "import seaborn as sns\n",
    "\n",
    "from xgboost import XGBClassifier\n",
    "\n",
    "import sys\n",
    "sys.path.append(\"../\")\n",
    "\n",
    "from src.data import get_data\n",
    "from src.preprocessing import TextToFeatures\n",
    "from src.tuning import parameter_search"
   ]
  },
  {
   "cell_type": "code",
   "execution_count": 4,
   "metadata": {},
   "outputs": [],
   "source": [
    "X, y, X_sub = get_data()"
   ]
  },
  {
   "cell_type": "code",
   "execution_count": 5,
   "metadata": {},
   "outputs": [
    {
     "name": "stdout",
     "output_type": "stream",
     "text": [
      "Searching best params for XGBClassifier...\n",
      "No folds = 3\n",
      "\n",
      "Fold 1/3\n",
      "Searching across 32 candidates\n",
      "................................\n",
      "Fold 2/3\n",
      "Searching across 32 candidates\n",
      "................................\n",
      "Fold 3/3\n",
      "Searching across 32 candidates\n",
      "................................"
     ]
    }
   ],
   "source": [
    "param_grid = {\n",
    "    # 'max_features': [500, 600],\n",
    "    'n_estimators': [100, 200, 300, 400],\n",
    "    'max_depth': [3, 7, 12, 20],\n",
    "    'colsample_bytree': [.75, 1.],\n",
    "}\n",
    "\n",
    "results = parameter_search(\n",
    "    model_class=XGBClassifier,\n",
    "    param_grid=param_grid,\n",
    "    n_splits=3, \n",
    "    vect_type='sentence-BERT',\n",
    "    X=X,\n",
    "    y=y,\n",
    ")"
   ]
  },
  {
   "cell_type": "code",
   "execution_count": 6,
   "metadata": {},
   "outputs": [
    {
     "data": {
      "text/html": [
       "<div>\n",
       "<style scoped>\n",
       "    .dataframe tbody tr th:only-of-type {\n",
       "        vertical-align: middle;\n",
       "    }\n",
       "\n",
       "    .dataframe tbody tr th {\n",
       "        vertical-align: top;\n",
       "    }\n",
       "\n",
       "    .dataframe thead th {\n",
       "        text-align: right;\n",
       "    }\n",
       "</style>\n",
       "<table border=\"1\" class=\"dataframe\">\n",
       "  <thead>\n",
       "    <tr style=\"text-align: right;\">\n",
       "      <th></th>\n",
       "      <th>n_estimators</th>\n",
       "      <th>max_depth</th>\n",
       "      <th>colsample_bytree</th>\n",
       "      <th>tn</th>\n",
       "      <th>tp</th>\n",
       "      <th>f1</th>\n",
       "      <th>auc</th>\n",
       "    </tr>\n",
       "  </thead>\n",
       "  <tbody>\n",
       "    <tr>\n",
       "      <th>26</th>\n",
       "      <td>400</td>\n",
       "      <td>7</td>\n",
       "      <td>0.75</td>\n",
       "      <td>0.838789</td>\n",
       "      <td>0.670457</td>\n",
       "      <td>0.710343</td>\n",
       "      <td>0.754623</td>\n",
       "    </tr>\n",
       "    <tr>\n",
       "      <th>1</th>\n",
       "      <td>100</td>\n",
       "      <td>3</td>\n",
       "      <td>1.00</td>\n",
       "      <td>0.791115</td>\n",
       "      <td>0.702857</td>\n",
       "      <td>0.709250</td>\n",
       "      <td>0.746986</td>\n",
       "    </tr>\n",
       "    <tr>\n",
       "      <th>19</th>\n",
       "      <td>300</td>\n",
       "      <td>7</td>\n",
       "      <td>1.00</td>\n",
       "      <td>0.841323</td>\n",
       "      <td>0.665868</td>\n",
       "      <td>0.708916</td>\n",
       "      <td>0.753596</td>\n",
       "    </tr>\n",
       "    <tr>\n",
       "      <th>29</th>\n",
       "      <td>400</td>\n",
       "      <td>12</td>\n",
       "      <td>1.00</td>\n",
       "      <td>0.844776</td>\n",
       "      <td>0.663116</td>\n",
       "      <td>0.708564</td>\n",
       "      <td>0.753946</td>\n",
       "    </tr>\n",
       "    <tr>\n",
       "      <th>16</th>\n",
       "      <td>300</td>\n",
       "      <td>3</td>\n",
       "      <td>0.75</td>\n",
       "      <td>0.808618</td>\n",
       "      <td>0.689410</td>\n",
       "      <td>0.708505</td>\n",
       "      <td>0.749014</td>\n",
       "    </tr>\n",
       "    <tr>\n",
       "      <th>21</th>\n",
       "      <td>300</td>\n",
       "      <td>12</td>\n",
       "      <td>1.00</td>\n",
       "      <td>0.846848</td>\n",
       "      <td>0.661281</td>\n",
       "      <td>0.708344</td>\n",
       "      <td>0.754065</td>\n",
       "    </tr>\n",
       "    <tr>\n",
       "      <th>10</th>\n",
       "      <td>200</td>\n",
       "      <td>7</td>\n",
       "      <td>0.75</td>\n",
       "      <td>0.837408</td>\n",
       "      <td>0.668318</td>\n",
       "      <td>0.708245</td>\n",
       "      <td>0.752863</td>\n",
       "    </tr>\n",
       "    <tr>\n",
       "      <th>18</th>\n",
       "      <td>300</td>\n",
       "      <td>7</td>\n",
       "      <td>0.75</td>\n",
       "      <td>0.838098</td>\n",
       "      <td>0.667095</td>\n",
       "      <td>0.707659</td>\n",
       "      <td>0.752596</td>\n",
       "    </tr>\n",
       "    <tr>\n",
       "      <th>27</th>\n",
       "      <td>400</td>\n",
       "      <td>7</td>\n",
       "      <td>1.00</td>\n",
       "      <td>0.840402</td>\n",
       "      <td>0.664034</td>\n",
       "      <td>0.707174</td>\n",
       "      <td>0.752218</td>\n",
       "    </tr>\n",
       "    <tr>\n",
       "      <th>13</th>\n",
       "      <td>200</td>\n",
       "      <td>12</td>\n",
       "      <td>1.00</td>\n",
       "      <td>0.846619</td>\n",
       "      <td>0.659141</td>\n",
       "      <td>0.706815</td>\n",
       "      <td>0.752880</td>\n",
       "    </tr>\n",
       "  </tbody>\n",
       "</table>\n",
       "</div>"
      ],
      "text/plain": [
       "    n_estimators  max_depth  colsample_bytree        tn        tp        f1  \\\n",
       "26           400          7              0.75  0.838789  0.670457  0.710343   \n",
       "1            100          3              1.00  0.791115  0.702857  0.709250   \n",
       "19           300          7              1.00  0.841323  0.665868  0.708916   \n",
       "29           400         12              1.00  0.844776  0.663116  0.708564   \n",
       "16           300          3              0.75  0.808618  0.689410  0.708505   \n",
       "21           300         12              1.00  0.846848  0.661281  0.708344   \n",
       "10           200          7              0.75  0.837408  0.668318  0.708245   \n",
       "18           300          7              0.75  0.838098  0.667095  0.707659   \n",
       "27           400          7              1.00  0.840402  0.664034  0.707174   \n",
       "13           200         12              1.00  0.846619  0.659141  0.706815   \n",
       "\n",
       "         auc  \n",
       "26  0.754623  \n",
       "1   0.746986  \n",
       "19  0.753596  \n",
       "29  0.753946  \n",
       "16  0.749014  \n",
       "21  0.754065  \n",
       "10  0.752863  \n",
       "18  0.752596  \n",
       "27  0.752218  \n",
       "13  0.752880  "
      ]
     },
     "execution_count": 6,
     "metadata": {},
     "output_type": "execute_result"
    }
   ],
   "source": [
    "results.sort_values(by='f1', ascending=False)[:10]"
   ]
  },
  {
   "cell_type": "code",
   "execution_count": 8,
   "metadata": {},
   "outputs": [
    {
     "name": "stdout",
     "output_type": "stream",
     "text": [
      "Proportion of target: 0.3797119215445909\n"
     ]
    }
   ],
   "source": [
    "# Params\n",
    "n_estimators = 400\n",
    "max_depth = 7\n",
    "colsample_bytree = .75\n",
    "\n",
    "# Train with whole model\n",
    "scale_pos_weight = sum(np.where(y==0, 1, 0)) / sum(y)\n",
    "\n",
    "# Extract text features\n",
    "vectoriser = TextToFeatures(type='sentence-BERT')\n",
    "X_dtm = vectoriser.fit_transform(X['clean_text'])\n",
    "X_sub_dtm = vectoriser.fit_transform(X_sub['clean_text'])\n",
    "\n",
    "# Train model\n",
    "clf = XGBClassifier(\n",
    "    n_estimators=n_estimators,\n",
    "    max_depth=max_depth,\n",
    "    colsample_bytree=colsample_bytree,\n",
    "    scale_pos_weight=scale_pos_weight,\n",
    ")\n",
    "clf.fit(X_dtm, y)\n",
    "\n",
    "# Get predictions\n",
    "y_sub_pred = clf.predict(X_sub_dtm)\n",
    "print('Proportion of target:', y_sub_pred.sum()/len(y_sub_pred))"
   ]
  },
  {
   "cell_type": "code",
   "execution_count": 9,
   "metadata": {},
   "outputs": [],
   "source": [
    "X_sub['target'] = y_sub_pred\n",
    "submission_set = X_sub[['id', 'target']]\n",
    "submission_set.to_csv('../data/submissions/04-xgboost-model-BERT.csv', index=False)"
   ]
  },
  {
   "cell_type": "code",
   "execution_count": 10,
   "metadata": {},
   "outputs": [
    {
     "name": "stdout",
     "output_type": "stream",
     "text": [
      "huggingface/tokenizers: The current process just got forked, after parallelism has already been used. Disabling parallelism to avoid deadlocks...\n",
      "To disable this warning, you can either:\n",
      "\t- Avoid using `tokenizers` before the fork if possible\n",
      "\t- Explicitly set the environment variable TOKENIZERS_PARALLELISM=(true | false)\n",
      "100%|██████████████████████████████████████| 22.2k/22.2k [00:01<00:00, 17.3kB/s]\n",
      "Successfully submitted to Natural Language Processing with Disaster Tweets"
     ]
    }
   ],
   "source": [
    "# !kaggle competitions submit -c nlp-getting-started -f ../data/submissions/04-xgboost-model-BERT.csv -m \"xgboost BERT\""
   ]
  }
 ],
 "metadata": {
  "kernelspec": {
   "display_name": "Python 3.10.8 ('.venv': poetry)",
   "language": "python",
   "name": "python3"
  },
  "language_info": {
   "codemirror_mode": {
    "name": "ipython",
    "version": 3
   },
   "file_extension": ".py",
   "mimetype": "text/x-python",
   "name": "python",
   "nbconvert_exporter": "python",
   "pygments_lexer": "ipython3",
   "version": "3.10.8"
  },
  "orig_nbformat": 4,
  "vscode": {
   "interpreter": {
    "hash": "128ecb91850c87a80720b6da2917f6766eb045c299b02f7336160a30723bbfad"
   }
  }
 },
 "nbformat": 4,
 "nbformat_minor": 2
}
